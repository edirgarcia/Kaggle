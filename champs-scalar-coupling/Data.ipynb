{
 "cells": [
  {
   "cell_type": "code",
   "execution_count": null,
   "metadata": {},
   "outputs": [],
   "source": [
    "import numpy as np\n",
    "import pandas as pd"
   ]
  },
  {
   "cell_type": "code",
   "execution_count": null,
   "metadata": {},
   "outputs": [],
   "source": [
    "train = pd.read_csv('data/train.csv')\n",
    "test = pd.read_csv('data/test.csv')\n",
    "sub = pd.read_csv('data/sample_submission.csv')\n",
    "structures = pd.read_csv('data/structures.csv')\n",
    "# additional metadata\n",
    "potential_energy = pd.read_csv('data/potential_energy.csv')\n",
    "mulliken_charges = pd.read_csv('data/mulliken_charges.csv')\n",
    "scalar_coupling_contributions = pd.read_csv('data/scalar_coupling_contributions.csv')\n",
    "magnetic_shielding_tensors = pd.read_csv('data/magnetic_shielding_tensors.csv')\n",
    "dipole_moments = pd.read_csv('data/dipole_moments.csv')"
   ]
  },
  {
   "cell_type": "code",
   "execution_count": null,
   "metadata": {},
   "outputs": [],
   "source": [
    "def merge_rename_drop(df_left, df_right, rename_suffix, left_cols, right_cols, to_rename, to_drop):\n",
    "    \n",
    "    df_left = pd.merge(df_left, df_right, how = 'left', left_on = left_cols, right_on = right_cols)\n",
    "    \n",
    "    rename_map = {}\n",
    "    for col in to_rename:\n",
    "        rename_map[col] = col + '_' + rename_suffix\n",
    "        \n",
    "    df_left = df_left.rename(columns=rename_map)\n",
    "    \n",
    "    if to_drop:\n",
    "        df_left = df_left.drop(to_drop, axis = 1)\n",
    "\n",
    "    return df_left"
   ]
  },
  {
   "cell_type": "code",
   "execution_count": null,
   "metadata": {},
   "outputs": [],
   "source": [
    "#merge with structures\n",
    "train = merge_rename_drop(train, structures, '0', ['molecule_name','atom_index_0'], ['molecule_name','atom_index'], ['x','y','z','atom'],'atom_index')\n",
    "train = merge_rename_drop(train, structures, '1', ['molecule_name','atom_index_1'], ['molecule_name','atom_index'], ['x','y','z','atom'],'atom_index')\n",
    "\n",
    "test = merge_rename_drop(test, structures, '0', ['molecule_name','atom_index_0'], ['molecule_name','atom_index'], ['x','y','z','atom'],'atom_index')\n",
    "test = merge_rename_drop(test, structures, '1', ['molecule_name','atom_index_1'], ['molecule_name','atom_index'], ['x','y','z','atom'],'atom_index')\n",
    "\n",
    "train['type'] = train['type'].apply(lambda x: x[0])\n",
    "test['type'] = test['type'].apply(lambda x: x[0])\n",
    "train = train.drop('type', axis=1)\n",
    "test = test.drop('type', axis=1) \n",
    "\n",
    "train.head()"
   ]
  },
  {
   "cell_type": "code",
   "execution_count": null,
   "metadata": {},
   "outputs": [],
   "source": [
    "#join all metadata\n",
    "metadata = train.iloc[:,0:4]\n",
    "metadata = pd.merge(metadata, scalar_coupling_contributions, how='left', on= ['molecule_name','atom_index_0','atom_index_1'])\n",
    "metadata = pd.merge(metadata, potential_energy, how='left', on= ['molecule_name'])\n",
    "metadata = merge_rename_drop(metadata, mulliken_charges, '0', ['molecule_name','atom_index_0'], ['molecule_name','atom_index'], ['mulliken_charge'],'atom_index')\n",
    "metadata = merge_rename_drop(metadata, mulliken_charges, '1', ['molecule_name','atom_index_1'], ['molecule_name','atom_index'], ['mulliken_charge'],'atom_index')\n",
    "metadata = merge_rename_drop(metadata, magnetic_shielding_tensors, '0', ['molecule_name','atom_index_0'], ['molecule_name','atom_index'], ['XX','YX', 'ZX', 'XY','YY', 'ZY', 'XZ', 'YZ', 'ZZ'],'atom_index')\n",
    "metadata = merge_rename_drop(metadata, magnetic_shielding_tensors, '1', ['molecule_name','atom_index_1'], ['molecule_name','atom_index'], ['XX','YX', 'ZX', 'XY','YY', 'ZY', 'XZ', 'YZ', 'ZZ'],'atom_index')\n",
    "metadata = merge_rename_drop(metadata, dipole_moments, 'dpm', ['molecule_name'], ['molecule_name'], ['X','Y', 'Z'],'')\n",
    "metadata.head()"
   ]
  },
  {
   "cell_type": "code",
   "execution_count": null,
   "metadata": {},
   "outputs": [],
   "source": [
    "metadata.to_csv('data/metadata.csv', index=False)\n",
    "train.to_csv('data/train-structure.csv', index=False)\n",
    "test.to_csv('data/test-structure.csv', index=False)"
   ]
  },
  {
   "cell_type": "code",
   "execution_count": null,
   "metadata": {},
   "outputs": [],
   "source": []
  }
 ],
 "metadata": {
  "kernelspec": {
   "display_name": "Python 3.5",
   "language": "python",
   "name": "python3"
  },
  "language_info": {
   "codemirror_mode": {
    "name": "ipython",
    "version": 3
   },
   "file_extension": ".py",
   "mimetype": "text/x-python",
   "name": "python",
   "nbconvert_exporter": "python",
   "pygments_lexer": "ipython3",
   "version": "3.5.5"
  }
 },
 "nbformat": 4,
 "nbformat_minor": 2
}
