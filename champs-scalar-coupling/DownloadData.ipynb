{
 "cells": [
  {
   "cell_type": "code",
   "execution_count": 8,
   "metadata": {},
   "outputs": [
    {
     "name": "stdout",
     "output_type": "stream",
     "text": [
      "--2019-06-09 18:02:38--  https://www.kaggle.com/c/14313/download-all\n",
      "Resolving www.kaggle.com (www.kaggle.com)... 35.244.233.98\n",
      "Connecting to www.kaggle.com (www.kaggle.com)|35.244.233.98|:443... connected.\n",
      "HTTP request sent, awaiting response... 302 Found\n",
      "Location: https://www.kaggle.com/account/login?ReturnUrl=%2Fc%2F14313%2Fdownload-all [following]\n",
      "--2019-06-09 18:02:38--  https://www.kaggle.com/account/login?ReturnUrl=%2Fc%2F14313%2Fdownload-all\n",
      "Reusing existing connection to www.kaggle.com:443.\n",
      "HTTP request sent, awaiting response... 200 OK\n",
      "Length: unspecified [text/html]\n",
      "Saving to: ‘/data/home/edirga/notebooks/repos/kaggle/champs-scalar-coupling/data/champs-scalar-coupling.zip’\n",
      "\n",
      "/data/home/edirga/n     [ <=>                ]   8.95K  --.-KB/s    in 0.003s  \n",
      "\n",
      "2019-06-09 18:02:38 (2.71 MB/s) - ‘/data/home/edirga/notebooks/repos/kaggle/champs-scalar-coupling/data/champs-scalar-coupling.zip’ saved [9168]\n",
      "\n"
     ]
    }
   ],
   "source": [
    "#This does not properly download the file might have to go through the kaggle package to do so\n",
    "!sudo wget --no-check-certificate \\\n",
    "    https://www.kaggle.com/c/14313/download-all \\\n",
    "    -O /data/home/edirga/notebooks/repos/kaggle/champs-scalar-coupling/data/champs-scalar-coupling.zip"
   ]
  },
  {
   "cell_type": "code",
   "execution_count": 10,
   "metadata": {},
   "outputs": [],
   "source": [
    "import os\n",
    "import zipfile\n",
    "\n",
    "local_zip = '/data/home/edirga/notebooks/repos/kaggle/champs-scalar-coupling/data/champs-scalar-coupling.zip'\n",
    "zip_ref = zipfile.ZipFile(local_zip, 'r')\n",
    "zip_ref.extractall('/data/home/edirga/notebooks/repos/kaggle/champs-scalar-coupling/data')\n",
    "zip_ref.close()"
   ]
  },
  {
   "cell_type": "code",
   "execution_count": null,
   "metadata": {},
   "outputs": [],
   "source": []
  }
 ],
 "metadata": {
  "kernelspec": {
   "display_name": "Python 3.6 - AzureML",
   "language": "python",
   "name": "python3-azureml"
  },
  "language_info": {
   "codemirror_mode": {
    "name": "ipython",
    "version": 3
   },
   "file_extension": ".py",
   "mimetype": "text/x-python",
   "name": "python",
   "nbconvert_exporter": "python",
   "pygments_lexer": "ipython3",
   "version": "3.6.8"
  }
 },
 "nbformat": 4,
 "nbformat_minor": 2
}
